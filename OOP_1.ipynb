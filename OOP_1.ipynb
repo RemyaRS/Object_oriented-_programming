{
 "cells": [
  {
   "cell_type": "markdown",
   "id": "ca044214",
   "metadata": {},
   "source": [
    "python supports all 4 paradims :\n",
    "    object oriented programming, \n",
    "    procedure oriented programming, \n",
    "    function oriented programming, \n",
    "    imperative"
   ]
  },
  {
   "cell_type": "markdown",
   "id": "4fc2929c",
   "metadata": {},
   "source": [
    "class is a template (eg - format of leave letter)\n",
    "\n",
    "\n",
    "object is instance of the class (eg - data added to letter format)"
   ]
  },
  {
   "cell_type": "code",
   "execution_count": 12,
   "id": "bb157a5b",
   "metadata": {},
   "outputs": [],
   "source": [
    "class Car:\n",
    "    speed = 0\n",
    "    color = 'white'\n",
    "    \n",
    "    def increase_speed(self):\n",
    "        self.speed+=10\n",
    "\n",
    "# self represents the object, which is being called.....it should be written like this for any method"
   ]
  },
  {
   "cell_type": "markdown",
   "id": "de60ee99",
   "metadata": {},
   "source": [
    "method is function inside class"
   ]
  },
  {
   "cell_type": "code",
   "execution_count": 13,
   "id": "d583e4a0",
   "metadata": {},
   "outputs": [],
   "source": [
    "tesla = Car()"
   ]
  },
  {
   "cell_type": "code",
   "execution_count": 14,
   "id": "985934c8",
   "metadata": {},
   "outputs": [
    {
     "name": "stdout",
     "output_type": "stream",
     "text": [
      "white\n"
     ]
    }
   ],
   "source": [
    "print(tesla.color)"
   ]
  },
  {
   "cell_type": "markdown",
   "id": "5ea43837",
   "metadata": {},
   "source": [
    "So here Car is class and tesla is object"
   ]
  },
  {
   "cell_type": "code",
   "execution_count": 15,
   "id": "27152c82",
   "metadata": {},
   "outputs": [],
   "source": [
    "tata = Car()\n",
    "tata.color = 'red'"
   ]
  },
  {
   "cell_type": "code",
   "execution_count": 16,
   "id": "bec19d5f",
   "metadata": {},
   "outputs": [
    {
     "name": "stdout",
     "output_type": "stream",
     "text": [
      "red\n"
     ]
    }
   ],
   "source": [
    "print(tata.color)"
   ]
  },
  {
   "cell_type": "code",
   "execution_count": 17,
   "id": "73ba0bea",
   "metadata": {},
   "outputs": [
    {
     "name": "stdout",
     "output_type": "stream",
     "text": [
      "0\n"
     ]
    }
   ],
   "source": [
    "print(tesla.speed)"
   ]
  },
  {
   "cell_type": "code",
   "execution_count": 18,
   "id": "1468edc1",
   "metadata": {},
   "outputs": [
    {
     "name": "stdout",
     "output_type": "stream",
     "text": [
      "None\n"
     ]
    }
   ],
   "source": [
    "print(tesla.increase_speed())"
   ]
  },
  {
   "cell_type": "code",
   "execution_count": 19,
   "id": "05035078",
   "metadata": {},
   "outputs": [
    {
     "name": "stdout",
     "output_type": "stream",
     "text": [
      "10\n"
     ]
    }
   ],
   "source": [
    "print(tesla.speed)"
   ]
  },
  {
   "cell_type": "code",
   "execution_count": 20,
   "id": "dfcce9c3",
   "metadata": {},
   "outputs": [
    {
     "name": "stdout",
     "output_type": "stream",
     "text": [
      "None\n"
     ]
    }
   ],
   "source": [
    "print(tesla.increase_speed())"
   ]
  },
  {
   "cell_type": "code",
   "execution_count": 21,
   "id": "78293e17",
   "metadata": {},
   "outputs": [
    {
     "name": "stdout",
     "output_type": "stream",
     "text": [
      "20\n"
     ]
    }
   ],
   "source": [
    "print(tesla.speed)"
   ]
  },
  {
   "cell_type": "code",
   "execution_count": 25,
   "id": "554d2657",
   "metadata": {},
   "outputs": [
    {
     "name": "stdout",
     "output_type": "stream",
     "text": [
      "on\n"
     ]
    }
   ],
   "source": [
    "# an object  may have its own property, which is not defined inside class\n",
    "tesla.autodrive = 'on'\n",
    "print(tesla.autodrive)"
   ]
  },
  {
   "cell_type": "code",
   "execution_count": null,
   "id": "8e6429de",
   "metadata": {},
   "outputs": [],
   "source": []
  }
 ],
 "metadata": {
  "kernelspec": {
   "display_name": "Python 3 (ipykernel)",
   "language": "python",
   "name": "python3"
  },
  "language_info": {
   "codemirror_mode": {
    "name": "ipython",
    "version": 3
   },
   "file_extension": ".py",
   "mimetype": "text/x-python",
   "name": "python",
   "nbconvert_exporter": "python",
   "pygments_lexer": "ipython3",
   "version": "3.9.12"
  }
 },
 "nbformat": 4,
 "nbformat_minor": 5
}
