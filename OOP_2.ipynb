{
 "cells": [
  {
   "cell_type": "code",
   "execution_count": 10,
   "id": "9a0dcad0",
   "metadata": {},
   "outputs": [],
   "source": [
    "class Student:\n",
    "    number_of_leaves = 12\n",
    "    pass"
   ]
  },
  {
   "cell_type": "code",
   "execution_count": 11,
   "id": "40d92f38",
   "metadata": {},
   "outputs": [],
   "source": [
    "sita = Student()\n",
    "geeta = Student()"
   ]
  },
  {
   "cell_type": "code",
   "execution_count": 4,
   "id": "27bd6315",
   "metadata": {},
   "outputs": [],
   "source": [
    "sita.name = \"Vishnu\"\n",
    "sita.std = 8\n",
    "sita.section = 1\n",
    "\n",
    "geeta.name = \"Sunena\"\n",
    "geeta.std = 9\n",
    "geeta.section = 2"
   ]
  },
  {
   "cell_type": "code",
   "execution_count": 5,
   "id": "1303313b",
   "metadata": {},
   "outputs": [
    {
     "name": "stdout",
     "output_type": "stream",
     "text": [
      "9 8\n"
     ]
    }
   ],
   "source": [
    "print(geeta.std, sita.std)"
   ]
  },
  {
   "cell_type": "code",
   "execution_count": 6,
   "id": "be94532a",
   "metadata": {},
   "outputs": [],
   "source": [
    "sita.subjects = [\"maths\", \"martial arts\"]"
   ]
  },
  {
   "cell_type": "code",
   "execution_count": 7,
   "id": "526f7ac7",
   "metadata": {},
   "outputs": [
    {
     "name": "stdout",
     "output_type": "stream",
     "text": [
      "['maths', 'martial arts']\n"
     ]
    }
   ],
   "source": [
    "print(sita.subjects)"
   ]
  },
  {
   "cell_type": "code",
   "execution_count": 12,
   "id": "21521d79",
   "metadata": {},
   "outputs": [
    {
     "name": "stdout",
     "output_type": "stream",
     "text": [
      "12\n"
     ]
    }
   ],
   "source": [
    "print(sita.number_of_leaves)"
   ]
  },
  {
   "cell_type": "code",
   "execution_count": 13,
   "id": "7f7b6831",
   "metadata": {},
   "outputs": [
    {
     "name": "stdout",
     "output_type": "stream",
     "text": [
      "12\n"
     ]
    }
   ],
   "source": [
    "print(Student.number_of_leaves)"
   ]
  },
  {
   "cell_type": "markdown",
   "id": "f790449d",
   "metadata": {},
   "source": [
    "number_of_leaves is class property...its same for all\n",
    "\n",
    "it can be changed by changing number_of_leaves of Student"
   ]
  },
  {
   "cell_type": "code",
   "execution_count": 14,
   "id": "8d717241",
   "metadata": {},
   "outputs": [],
   "source": [
    "Student.number_of_leaves = 10"
   ]
  },
  {
   "cell_type": "code",
   "execution_count": 15,
   "id": "fd2b3912",
   "metadata": {},
   "outputs": [
    {
     "name": "stdout",
     "output_type": "stream",
     "text": [
      "10\n"
     ]
    }
   ],
   "source": [
    "print(sita.number_of_leaves)"
   ]
  },
  {
   "cell_type": "code",
   "execution_count": 17,
   "id": "a8930871",
   "metadata": {},
   "outputs": [],
   "source": [
    "sita.number_of_leaves = 11"
   ]
  },
  {
   "cell_type": "code",
   "execution_count": 18,
   "id": "e8fcee06",
   "metadata": {},
   "outputs": [
    {
     "name": "stdout",
     "output_type": "stream",
     "text": [
      "11\n"
     ]
    }
   ],
   "source": [
    "print(sita.number_of_leaves)"
   ]
  },
  {
   "cell_type": "code",
   "execution_count": 19,
   "id": "5c00a0e4",
   "metadata": {},
   "outputs": [
    {
     "name": "stdout",
     "output_type": "stream",
     "text": [
      "10\n"
     ]
    }
   ],
   "source": [
    "print(Student.number_of_leaves)"
   ]
  },
  {
   "cell_type": "code",
   "execution_count": 20,
   "id": "ec8a98cd",
   "metadata": {},
   "outputs": [
    {
     "name": "stdout",
     "output_type": "stream",
     "text": [
      "10\n"
     ]
    }
   ],
   "source": [
    "print(geeta.number_of_leaves)"
   ]
  },
  {
   "cell_type": "markdown",
   "id": "97718b56",
   "metadata": {},
   "source": [
    "class property can't be changed by changing object property"
   ]
  },
  {
   "cell_type": "code",
   "execution_count": 24,
   "id": "6c61107c",
   "metadata": {},
   "outputs": [],
   "source": [
    "Student.number_of_leaves = 9"
   ]
  },
  {
   "cell_type": "code",
   "execution_count": 25,
   "id": "9d137860",
   "metadata": {},
   "outputs": [
    {
     "name": "stdout",
     "output_type": "stream",
     "text": [
      "11\n"
     ]
    }
   ],
   "source": [
    "print(sita.number_of_leaves)"
   ]
  },
  {
   "cell_type": "code",
   "execution_count": 22,
   "id": "246b715b",
   "metadata": {},
   "outputs": [
    {
     "name": "stdout",
     "output_type": "stream",
     "text": [
      "9\n"
     ]
    }
   ],
   "source": [
    "print(Student.number_of_leaves)"
   ]
  },
  {
   "cell_type": "code",
   "execution_count": 23,
   "id": "f9d91ee4",
   "metadata": {},
   "outputs": [
    {
     "name": "stdout",
     "output_type": "stream",
     "text": [
      "9\n"
     ]
    }
   ],
   "source": [
    "print(geeta.number_of_leaves)"
   ]
  },
  {
   "cell_type": "code",
   "execution_count": null,
   "id": "4ff8e3bc",
   "metadata": {},
   "outputs": [],
   "source": []
  }
 ],
 "metadata": {
  "kernelspec": {
   "display_name": "Python 3 (ipykernel)",
   "language": "python",
   "name": "python3"
  },
  "language_info": {
   "codemirror_mode": {
    "name": "ipython",
    "version": 3
   },
   "file_extension": ".py",
   "mimetype": "text/x-python",
   "name": "python",
   "nbconvert_exporter": "python",
   "pygments_lexer": "ipython3",
   "version": "3.9.12"
  }
 },
 "nbformat": 4,
 "nbformat_minor": 5
}
