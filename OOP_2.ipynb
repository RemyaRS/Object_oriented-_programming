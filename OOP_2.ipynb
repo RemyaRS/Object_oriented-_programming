{
 "cells": [
  {
   "cell_type": "code",
   "execution_count": 1,
   "id": "076c6f3a",
   "metadata": {},
   "outputs": [],
   "source": [
    "class Student:\n",
    "    pass"
   ]
  },
  {
   "cell_type": "code",
   "execution_count": 2,
   "id": "e991d5da",
   "metadata": {},
   "outputs": [],
   "source": [
    "sita = Student()\n",
    "geeta = Student()"
   ]
  },
  {
   "cell_type": "code",
   "execution_count": 4,
   "id": "1fd05a7c",
   "metadata": {},
   "outputs": [],
   "source": [
    "sita.name = \"Vishnu\"\n",
    "sita.std = 8\n",
    "sita.section = 1\n",
    "\n",
    "geeta.name = \"Sunena\"\n",
    "geeta.std = 9\n",
    "geeta.section = 2"
   ]
  },
  {
   "cell_type": "code",
   "execution_count": 5,
   "id": "08816582",
   "metadata": {},
   "outputs": [
    {
     "name": "stdout",
     "output_type": "stream",
     "text": [
      "9 8\n"
     ]
    }
   ],
   "source": [
    "print(geeta.std, sita.std)"
   ]
  },
  {
   "cell_type": "code",
   "execution_count": 6,
   "id": "4f2d4655",
   "metadata": {},
   "outputs": [],
   "source": [
    "sita.subjects = [\"maths\", \"martial arts\"]"
   ]
  },
  {
   "cell_type": "code",
   "execution_count": 7,
   "id": "64710460",
   "metadata": {},
   "outputs": [
    {
     "name": "stdout",
     "output_type": "stream",
     "text": [
      "['maths', 'martial arts']\n"
     ]
    }
   ],
   "source": [
    "print(sita.subjects)"
   ]
  },
  {
   "cell_type": "code",
   "execution_count": null,
   "id": "4c8acd90",
   "metadata": {},
   "outputs": [],
   "source": []
  }
 ],
 "metadata": {
  "kernelspec": {
   "display_name": "Python 3 (ipykernel)",
   "language": "python",
   "name": "python3"
  },
  "language_info": {
   "codemirror_mode": {
    "name": "ipython",
    "version": 3
   },
   "file_extension": ".py",
   "mimetype": "text/x-python",
   "name": "python",
   "nbconvert_exporter": "python",
   "pygments_lexer": "ipython3",
   "version": "3.9.12"
  }
 },
 "nbformat": 4,
 "nbformat_minor": 5
}
